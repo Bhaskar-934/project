{
 "cells": [
  {
   "cell_type": "code",
   "execution_count": 4,
   "id": "1692c121-d766-4548-bc94-caca78eb5e87",
   "metadata": {},
   "outputs": [],
   "source": [
    "a='Anspro Technologies'"
   ]
  },
  {
   "cell_type": "code",
   "execution_count": 2,
   "id": "254bb153-d863-4c61-bb66-068c3e84c25e",
   "metadata": {},
   "outputs": [
    {
     "data": {
      "text/plain": [
       "'A'"
      ]
     },
     "execution_count": 2,
     "metadata": {},
     "output_type": "execute_result"
    }
   ],
   "source": [
    "a[0]"
   ]
  },
  {
   "cell_type": "code",
   "execution_count": 4,
   "id": "ef4c7d3d-33a8-41fa-aab1-1acf391fefb3",
   "metadata": {},
   "outputs": [
    {
     "data": {
      "text/plain": [
       "3"
      ]
     },
     "execution_count": 4,
     "metadata": {},
     "output_type": "execute_result"
    }
   ],
   "source": [
    "a.count('o')"
   ]
  },
  {
   "cell_type": "code",
   "execution_count": 5,
   "id": "5fa23c2b-6aa1-4828-bbd8-8650a72787ca",
   "metadata": {},
   "outputs": [
    {
     "data": {
      "text/plain": [
       "1"
      ]
     },
     "execution_count": 5,
     "metadata": {},
     "output_type": "execute_result"
    }
   ],
   "source": [
    "a.count('pro')"
   ]
  },
  {
   "cell_type": "code",
   "execution_count": 5,
   "id": "bc5136be-2bd2-4b45-897a-c106509a8a74",
   "metadata": {},
   "outputs": [
    {
     "data": {
      "text/plain": [
       "2"
      ]
     },
     "execution_count": 5,
     "metadata": {},
     "output_type": "execute_result"
    }
   ],
   "source": [
    "a='Anspro Technologies'\n",
    "a.count('o',8)"
   ]
  },
  {
   "cell_type": "code",
   "execution_count": 6,
   "id": "23240d87-f018-4b98-a3c0-75e88b2d3feb",
   "metadata": {},
   "outputs": [
    {
     "data": {
      "text/plain": [
       "1"
      ]
     },
     "execution_count": 6,
     "metadata": {},
     "output_type": "execute_result"
    }
   ],
   "source": [
    "a.count('o',8,14)"
   ]
  },
  {
   "cell_type": "code",
   "execution_count": 7,
   "id": "940ac73e-206d-4470-9032-2504fc853cc1",
   "metadata": {},
   "outputs": [
    {
     "data": {
      "text/plain": [
       "\u001b[1;31mDocstring:\u001b[0m\n",
       "Return the number of non-overlapping occurrences of substring sub in string S[start:end].\n",
       "\n",
       "Optional arguments start and end are interpreted as in slice notation.\n",
       "\u001b[1;31mType:\u001b[0m      builtin_function_or_method"
      ]
     },
     "metadata": {},
     "output_type": "display_data"
    }
   ],
   "source": [
    "a.count?"
   ]
  },
  {
   "cell_type": "code",
   "execution_count": 8,
   "id": "f739f600-afc5-420d-a2c7-640fe9c69e8e",
   "metadata": {},
   "outputs": [
    {
     "data": {
      "text/plain": [
       "14"
      ]
     },
     "execution_count": 8,
     "metadata": {},
     "output_type": "execute_result"
    }
   ],
   "source": [
    "a.rindex('o',6)"
   ]
  },
  {
   "cell_type": "code",
   "execution_count": 9,
   "id": "c7c15277-0f0e-4391-8cab-1b4c26a92578",
   "metadata": {},
   "outputs": [
    {
     "ename": "SyntaxError",
     "evalue": "invalid decimal literal (2663280988.py, line 2)",
     "output_type": "error",
     "traceback": [
      "\u001b[1;36m  Cell \u001b[1;32mIn[9], line 2\u001b[1;36m\u001b[0m\n\u001b[1;33m    find if the value is not present it give -1but in index give error'''\u001b[0m\n\u001b[1;37m                                              ^\u001b[0m\n\u001b[1;31mSyntaxError\u001b[0m\u001b[1;31m:\u001b[0m invalid decimal literal\n"
     ]
    }
   ],
   "source": [
    "a.find('x')\n",
    "find if the value is not present it give -1but in index give error'''"
   ]
  },
  {
   "cell_type": "code",
   "execution_count": 17,
   "id": "ec92d875-af63-4dd9-a074-704fd62c1c20",
   "metadata": {},
   "outputs": [
    {
     "ename": "ValueError",
     "evalue": "substring not found",
     "output_type": "error",
     "traceback": [
      "\u001b[0;31m---------------------------------------------------------------------------\u001b[0m",
      "\u001b[0;31mValueError\u001b[0m                                Traceback (most recent call last)",
      "Cell \u001b[0;32mIn[17], line 1\u001b[0m\n\u001b[0;32m----> 1\u001b[0m \u001b[43ma\u001b[49m\u001b[38;5;241;43m.\u001b[39;49m\u001b[43mindex\u001b[49m\u001b[43m(\u001b[49m\u001b[38;5;124;43m'\u001b[39;49m\u001b[38;5;124;43mx\u001b[39;49m\u001b[38;5;124;43m'\u001b[39;49m\u001b[43m)\u001b[49m\n",
      "\u001b[0;31mValueError\u001b[0m: substring not found"
     ]
    }
   ],
   "source": [
    "a.index('x')"
   ]
  },
  {
   "cell_type": "code",
   "execution_count": 19,
   "id": "4c629c78-69ba-4db7-a13a-8e9c056ee12d",
   "metadata": {},
   "outputs": [],
   "source": [
    "l=[]"
   ]
  },
  {
   "cell_type": "code",
   "execution_count": 20,
   "id": "f9faa855-a2f5-4e58-82a7-798c62cefedb",
   "metadata": {},
   "outputs": [
    {
     "data": {
      "text/plain": [
       "list"
      ]
     },
     "execution_count": 20,
     "metadata": {},
     "output_type": "execute_result"
    }
   ],
   "source": [
    "type(l)"
   ]
  },
  {
   "cell_type": "code",
   "execution_count": 21,
   "id": "dc732b01-e564-4814-8fa3-fab3cd3a4019",
   "metadata": {},
   "outputs": [],
   "source": [
    "l=list()"
   ]
  },
  {
   "cell_type": "code",
   "execution_count": 22,
   "id": "d1ff5d9d-b168-4711-920c-f1e4260dba90",
   "metadata": {},
   "outputs": [
    {
     "data": {
      "text/plain": [
       "list"
      ]
     },
     "execution_count": 22,
     "metadata": {},
     "output_type": "execute_result"
    }
   ],
   "source": [
    "type(l)"
   ]
  },
  {
   "cell_type": "code",
   "execution_count": 23,
   "id": "d007433f-902b-465d-8198-baf2ec55979d",
   "metadata": {},
   "outputs": [],
   "source": [
    "l=[2,9,3,2,5,6]"
   ]
  },
  {
   "cell_type": "code",
   "execution_count": 24,
   "id": "b9e5385b-2f15-49c3-97bd-1b6eb1e74a31",
   "metadata": {},
   "outputs": [
    {
     "name": "stdout",
     "output_type": "stream",
     "text": [
      "2\n"
     ]
    }
   ],
   "source": [
    "\n",
    "print(l[3])"
   ]
  },
  {
   "cell_type": "code",
   "execution_count": 27,
   "id": "8e9f38ed-bf17-4822-8c71-7dcd7eb3028f",
   "metadata": {},
   "outputs": [
    {
     "data": {
      "text/plain": [
       "[3, 2, 5]"
      ]
     },
     "execution_count": 27,
     "metadata": {},
     "output_type": "execute_result"
    }
   ],
   "source": [
    "l[2:5]"
   ]
  },
  {
   "cell_type": "code",
   "execution_count": 30,
   "id": "081beb0c-9e2f-4df4-a8aa-04d40eb93053",
   "metadata": {},
   "outputs": [
    {
     "data": {
      "text/plain": [
       "[3]"
      ]
     },
     "execution_count": 30,
     "metadata": {},
     "output_type": "execute_result"
    }
   ],
   "source": [
    "l[2:1 :-1]"
   ]
  },
  {
   "cell_type": "code",
   "execution_count": 34,
   "id": "45cdcf8f-0c90-4db4-b47d-49b97154f68e",
   "metadata": {},
   "outputs": [],
   "source": [
    "l.append('hi')"
   ]
  },
  {
   "cell_type": "code",
   "execution_count": 38,
   "id": "b7cd0155-b4c2-4a1d-b8ae-1164dc8127b7",
   "metadata": {},
   "outputs": [
    {
     "name": "stdout",
     "output_type": "stream",
     "text": [
      "[2, 9, 3, 2, 5, 6, 10, 'hi', [3, 2, 0]]\n"
     ]
    }
   ],
   "source": [
    "print(l)"
   ]
  },
  {
   "cell_type": "code",
   "execution_count": 37,
   "id": "6465d8a5-546d-40df-85d0-c1519bae7a70",
   "metadata": {},
   "outputs": [],
   "source": [
    "l.append([3,2,0])"
   ]
  },
  {
   "cell_type": "code",
   "execution_count": 40,
   "id": "d764992c-903e-4533-b32e-4e0f34db17a6",
   "metadata": {},
   "outputs": [
    {
     "data": {
      "text/plain": [
       "[3, 2, 0]"
      ]
     },
     "execution_count": 40,
     "metadata": {},
     "output_type": "execute_result"
    }
   ],
   "source": [
    "l[-1]"
   ]
  },
  {
   "cell_type": "code",
   "execution_count": 42,
   "id": "85964978-004a-4f6b-991b-8770ce5d8fa1",
   "metadata": {},
   "outputs": [
    {
     "data": {
      "text/plain": [
       "list"
      ]
     },
     "execution_count": 42,
     "metadata": {},
     "output_type": "execute_result"
    }
   ],
   "source": [
    "type(l[-1])"
   ]
  },
  {
   "cell_type": "code",
   "execution_count": 44,
   "id": "f43b5655-de85-41e0-be63-966a7e6b32ea",
   "metadata": {},
   "outputs": [
    {
     "data": {
      "text/plain": [
       "2"
      ]
     },
     "execution_count": 44,
     "metadata": {},
     "output_type": "execute_result"
    }
   ],
   "source": [
    "l[-1][1]"
   ]
  },
  {
   "cell_type": "code",
   "execution_count": 47,
   "id": "a2711963-fd7c-4033-ae55-55b1e6b2e6fe",
   "metadata": {},
   "outputs": [],
   "source": [
    "l.clear()"
   ]
  },
  {
   "cell_type": "code",
   "execution_count": 50,
   "id": "2a36a7e1-34f1-43bb-a8e3-18a21d20a817",
   "metadata": {},
   "outputs": [
    {
     "name": "stdout",
     "output_type": "stream",
     "text": [
      "[2]\n"
     ]
    }
   ],
   "source": [
    "print(l)"
   ]
  },
  {
   "cell_type": "code",
   "execution_count": 49,
   "id": "cbae2c40-9630-497e-83c1-e949da3256e7",
   "metadata": {},
   "outputs": [],
   "source": [
    "l.append(2)"
   ]
  },
  {
   "cell_type": "code",
   "execution_count": 51,
   "id": "6e829af5-e1bd-4550-8836-555b7d0de270",
   "metadata": {},
   "outputs": [],
   "source": [
    "l.append(\"hello\")"
   ]
  },
  {
   "cell_type": "code",
   "execution_count": 52,
   "id": "93cde2ba-8d68-46dd-b767-ee110c770fd8",
   "metadata": {},
   "outputs": [
    {
     "name": "stdout",
     "output_type": "stream",
     "text": [
      "[2, 'hello']\n"
     ]
    }
   ],
   "source": [
    "print(l)"
   ]
  },
  {
   "cell_type": "code",
   "execution_count": 54,
   "id": "99730752-1e30-4b0f-82d0-2fb3791ad961",
   "metadata": {},
   "outputs": [],
   "source": [
    "l.clear()"
   ]
  },
  {
   "cell_type": "code",
   "execution_count": 55,
   "id": "b35f266f-9555-4433-b9af-756a6d9c550e",
   "metadata": {},
   "outputs": [
    {
     "name": "stdout",
     "output_type": "stream",
     "text": [
      "[]\n"
     ]
    }
   ],
   "source": [
    "print(l)"
   ]
  },
  {
   "cell_type": "code",
   "execution_count": 56,
   "id": "dc0eb5bb-2bcb-4e07-bd84-1a5952dbe120",
   "metadata": {},
   "outputs": [],
   "source": [
    "l.append(\"hello\")"
   ]
  },
  {
   "cell_type": "code",
   "execution_count": 57,
   "id": "6ef391a7-1f90-4ba4-8461-26f6aab670a9",
   "metadata": {},
   "outputs": [
    {
     "name": "stdout",
     "output_type": "stream",
     "text": [
      "['hello']\n"
     ]
    }
   ],
   "source": [
    "print(l)"
   ]
  },
  {
   "cell_type": "code",
   "execution_count": 62,
   "id": "f69c7910-ddf2-4dde-8f1e-f8a44d45fe28",
   "metadata": {},
   "outputs": [],
   "source": [
    "a='Anspro Technologies'"
   ]
  },
  {
   "cell_type": "code",
   "execution_count": 63,
   "id": "0d12ec9d-a400-4cae-b573-246c3e900e5c",
   "metadata": {},
   "outputs": [
    {
     "data": {
      "text/plain": [
       "'ANSPRO TECHNOLOGIES'"
      ]
     },
     "execution_count": 63,
     "metadata": {},
     "output_type": "execute_result"
    }
   ],
   "source": [
    "a.upper()"
   ]
  },
  {
   "cell_type": "code",
   "execution_count": 64,
   "id": "e710168c-f311-44e1-b509-679176739782",
   "metadata": {},
   "outputs": [
    {
     "data": {
      "text/plain": [
       "'Anspro technologies'"
      ]
     },
     "execution_count": 64,
     "metadata": {},
     "output_type": "execute_result"
    }
   ],
   "source": [
    "a.capitalize()"
   ]
  },
  {
   "cell_type": "code",
   "execution_count": 67,
   "id": "e159f473-589c-40bc-bf6f-fb9e562c1437",
   "metadata": {},
   "outputs": [],
   "source": [
    "l=[2,9,3,2,5,6]"
   ]
  },
  {
   "cell_type": "code",
   "execution_count": 68,
   "id": "6cf84ba7-a98f-4ef9-a0b3-d773b0b254df",
   "metadata": {},
   "outputs": [],
   "source": [
    "l.append('hello')"
   ]
  },
  {
   "cell_type": "code",
   "execution_count": 69,
   "id": "e51699bc-5bf2-4aec-844f-202363463997",
   "metadata": {},
   "outputs": [
    {
     "name": "stdout",
     "output_type": "stream",
     "text": [
      "[2, 9, 3, 2, 5, 6, 'hello']\n"
     ]
    }
   ],
   "source": [
    "print(l)"
   ]
  },
  {
   "cell_type": "code",
   "execution_count": 70,
   "id": "f29332ff-b9b0-4317-bae0-e7c881aa0a2a",
   "metadata": {},
   "outputs": [
    {
     "data": {
      "text/plain": [
       "[2, 9, 3, 2, 5, 6, 'hello']"
      ]
     },
     "execution_count": 70,
     "metadata": {},
     "output_type": "execute_result"
    }
   ],
   "source": [
    "l.copy()"
   ]
  },
  {
   "cell_type": "code",
   "execution_count": 72,
   "id": "7fef79b3-727a-4be3-a394-ac670615db73",
   "metadata": {},
   "outputs": [
    {
     "data": {
      "text/plain": [
       "<function list.extend(iterable, /)>"
      ]
     },
     "execution_count": 72,
     "metadata": {},
     "output_type": "execute_result"
    }
   ],
   "source": [
    "l.extend"
   ]
  },
  {
   "cell_type": "code",
   "execution_count": 82,
   "id": "43599578-35ba-40bd-85aa-5745ed680dff",
   "metadata": {},
   "outputs": [
    {
     "name": "stdout",
     "output_type": "stream",
     "text": [
      "[2, 9, 2, 5]\n"
     ]
    }
   ],
   "source": [
    "print(l)"
   ]
  },
  {
   "cell_type": "code",
   "execution_count": 83,
   "id": "f736f448-885a-44af-85cc-1d0cd16aaa19",
   "metadata": {},
   "outputs": [],
   "source": [
    "l.reverse()"
   ]
  },
  {
   "cell_type": "code",
   "execution_count": 85,
   "id": "a46e9385-f349-4d2b-b6ca-1a8d879d1527",
   "metadata": {},
   "outputs": [
    {
     "name": "stdout",
     "output_type": "stream",
     "text": [
      "[5, 2, 9, 2]\n"
     ]
    }
   ],
   "source": [
    "print(l)"
   ]
  },
  {
   "cell_type": "code",
   "execution_count": 86,
   "id": "46d41fbe-6332-4658-8648-d4a8bf3b8374",
   "metadata": {},
   "outputs": [
    {
     "name": "stdout",
     "output_type": "stream",
     "text": [
      "[2, 2, 5, 9]\n"
     ]
    }
   ],
   "source": [
    "l.sort()\n",
    "print(l)"
   ]
  },
  {
   "cell_type": "code",
   "execution_count": 90,
   "id": "53ed8a59-00be-4d55-9cb7-b66fd42559c5",
   "metadata": {},
   "outputs": [
    {
     "name": "stdout",
     "output_type": "stream",
     "text": [
      "[9, 5, 2, 2]\n"
     ]
    }
   ],
   "source": [
    "l.reverse()\n",
    "print(l)"
   ]
  },
  {
   "cell_type": "code",
   "execution_count": 91,
   "id": "dcdeb15f-c99d-46c2-a0bb-01dada27f12e",
   "metadata": {},
   "outputs": [
    {
     "data": {
      "text/plain": [
       "2"
      ]
     },
     "execution_count": 91,
     "metadata": {},
     "output_type": "execute_result"
    }
   ],
   "source": [
    "l.pop(-1)"
   ]
  },
  {
   "cell_type": "code",
   "execution_count": 93,
   "id": "85343079-5936-44ef-be10-cdde58148ad6",
   "metadata": {},
   "outputs": [
    {
     "name": "stdout",
     "output_type": "stream",
     "text": [
      "[9, 5, 2, 'hello', 'hello']\n"
     ]
    }
   ],
   "source": [
    "l.append('hello')\n",
    "print(l)"
   ]
  },
  {
   "cell_type": "code",
   "execution_count": 100,
   "id": "6fd484d6-fc74-4755-9a0d-83d311de8e46",
   "metadata": {},
   "outputs": [
    {
     "data": {
      "text/plain": [
       "'hello'"
      ]
     },
     "execution_count": 100,
     "metadata": {},
     "output_type": "execute_result"
    }
   ],
   "source": [
    "l[-1]"
   ]
  },
  {
   "cell_type": "code",
   "execution_count": 101,
   "id": "838f9eee-c974-4a6f-bc28-beef20186b87",
   "metadata": {},
   "outputs": [
    {
     "name": "stdout",
     "output_type": "stream",
     "text": [
      "[9, 5, 2, 'hello', 'hello']\n"
     ]
    }
   ],
   "source": [
    "print(l)"
   ]
  },
  {
   "cell_type": "code",
   "execution_count": 103,
   "id": "144bd55f-ef52-4f7e-9020-03ebc0d2243a",
   "metadata": {},
   "outputs": [
    {
     "data": {
      "text/plain": [
       "'hello'"
      ]
     },
     "execution_count": 103,
     "metadata": {},
     "output_type": "execute_result"
    }
   ],
   "source": [
    "l[-1]"
   ]
  },
  {
   "cell_type": "code",
   "execution_count": 104,
   "id": "47d17e6d-c372-44ff-9719-7bdd3403b1a9",
   "metadata": {},
   "outputs": [
    {
     "data": {
      "text/plain": [
       "str"
      ]
     },
     "execution_count": 104,
     "metadata": {},
     "output_type": "execute_result"
    }
   ],
   "source": [
    "type(l[-1])"
   ]
  },
  {
   "cell_type": "code",
   "execution_count": 107,
   "id": "809da464-0716-4d1c-833a-5d89d7852eb7",
   "metadata": {},
   "outputs": [],
   "source": [
    "l.append('hi')"
   ]
  },
  {
   "cell_type": "code",
   "execution_count": 108,
   "id": "23069c54-2c0a-4585-a111-c52ef761778f",
   "metadata": {},
   "outputs": [
    {
     "name": "stdout",
     "output_type": "stream",
     "text": [
      "[9, 5, 2, 'hello', 'hello', 'hi']\n"
     ]
    }
   ],
   "source": [
    "print(l)"
   ]
  },
  {
   "cell_type": "code",
   "execution_count": 112,
   "id": "b6a9a897-836d-49d7-980f-f29e1aa66b71",
   "metadata": {},
   "outputs": [],
   "source": [
    "l.extend('hi')"
   ]
  },
  {
   "cell_type": "code",
   "execution_count": 110,
   "id": "35f59ca4-24cf-44b9-a1a8-2131955477ef",
   "metadata": {},
   "outputs": [
    {
     "name": "stdout",
     "output_type": "stream",
     "text": [
      "[9, 5, 2, 'hello', 'hello', 'hi', 'h', 'i']\n"
     ]
    }
   ],
   "source": [
    "print(l)"
   ]
  },
  {
   "cell_type": "code",
   "execution_count": 113,
   "id": "a43cd7c2-001b-4948-8d0b-9fb848659f35",
   "metadata": {},
   "outputs": [],
   "source": [
    "l.extend([2,9])"
   ]
  },
  {
   "cell_type": "code",
   "execution_count": 114,
   "id": "1033f584-3744-4e65-97db-0dd75b18d72e",
   "metadata": {},
   "outputs": [
    {
     "name": "stdout",
     "output_type": "stream",
     "text": [
      "[9, 5, 2, 'hello', 'hello', 'hi', 'h', 'i', 'h', 'i', 2, 9]\n"
     ]
    }
   ],
   "source": [
    "print(l)"
   ]
  },
  {
   "cell_type": "code",
   "execution_count": 122,
   "id": "faab424a-0ff9-4269-b123-be12cab72873",
   "metadata": {},
   "outputs": [],
   "source": [
    "l=['hi','hello','god','Good']"
   ]
  },
  {
   "cell_type": "code",
   "execution_count": 123,
   "id": "1dcaa747-409e-4c8f-9f96-47eb30d318d2",
   "metadata": {},
   "outputs": [
    {
     "name": "stdout",
     "output_type": "stream",
     "text": [
      "['hi', 'hello', 'god', 'Good']\n"
     ]
    }
   ],
   "source": [
    "print(l)"
   ]
  },
  {
   "cell_type": "code",
   "execution_count": 124,
   "id": "b2426fcd-4d51-42f2-aabb-33b0a3dd82b7",
   "metadata": {},
   "outputs": [
    {
     "name": "stdout",
     "output_type": "stream",
     "text": [
      "['Good', 'god', 'hello', 'hi']\n"
     ]
    }
   ],
   "source": [
    "l.sort()\n",
    "print(l)"
   ]
  },
  {
   "cell_type": "code",
   "execution_count": 127,
   "id": "1501abc2-c60e-4e9e-91de-1bc689a48c70",
   "metadata": {},
   "outputs": [
    {
     "data": {
      "text/plain": [
       "['hi', 'hello', 'god', 'Good']"
      ]
     },
     "execution_count": 127,
     "metadata": {},
     "output_type": "execute_result"
    }
   ],
   "source": [
    "l[::-1]"
   ]
  },
  {
   "cell_type": "code",
   "execution_count": 128,
   "id": "c74eac9b-c116-455a-a5e5-6a68bdeb52ef",
   "metadata": {},
   "outputs": [],
   "source": [
    "l.remove('god')"
   ]
  },
  {
   "cell_type": "code",
   "execution_count": 129,
   "id": "7d92763b-39ca-4123-b71a-52da52fd277b",
   "metadata": {},
   "outputs": [
    {
     "name": "stdout",
     "output_type": "stream",
     "text": [
      "['Good', 'hello', 'hi']\n"
     ]
    }
   ],
   "source": [
    "print(l)"
   ]
  },
  {
   "cell_type": "code",
   "execution_count": 130,
   "id": "53d1a8e3-643a-4e65-8076-bbc7c29f5258",
   "metadata": {},
   "outputs": [],
   "source": [
    "l=[3,9,6,2,3]\n",
    "l.insert(20,5)"
   ]
  },
  {
   "cell_type": "code",
   "execution_count": 131,
   "id": "84794578-84a6-4723-9b8f-f15bb4f49c27",
   "metadata": {},
   "outputs": [
    {
     "name": "stdout",
     "output_type": "stream",
     "text": [
      "[3, 9, 6, 2, 3, 5]\n"
     ]
    }
   ],
   "source": [
    "print(l)"
   ]
  },
  {
   "cell_type": "code",
   "execution_count": 132,
   "id": "078dc2f2-711a-44b6-ad36-a0ba8dcf5801",
   "metadata": {},
   "outputs": [
    {
     "data": {
      "text/plain": [
       "28"
      ]
     },
     "execution_count": 132,
     "metadata": {},
     "output_type": "execute_result"
    }
   ],
   "source": [
    "sum(l)"
   ]
  },
  {
   "cell_type": "code",
   "execution_count": 133,
   "id": "aacbcd1c-78c7-48ff-b472-502f993c6c25",
   "metadata": {},
   "outputs": [
    {
     "data": {
      "text/plain": [
       "6"
      ]
     },
     "execution_count": 133,
     "metadata": {},
     "output_type": "execute_result"
    }
   ],
   "source": [
    "len(l)"
   ]
  },
  {
   "cell_type": "code",
   "execution_count": null,
   "id": "efeee644-86e7-4655-8842-0562e25f494d",
   "metadata": {},
   "outputs": [],
   "source": []
  },
  {
   "cell_type": "code",
   "execution_count": null,
   "id": "e4981322-664c-4516-8bb3-d8a9281322e4",
   "metadata": {},
   "outputs": [],
   "source": []
  }
 ],
 "metadata": {
  "kernelspec": {
   "display_name": "Python [conda env:base] *",
   "language": "python",
   "name": "conda-base-py"
  },
  "language_info": {
   "codemirror_mode": {
    "name": "ipython",
    "version": 3
   },
   "file_extension": ".py",
   "mimetype": "text/x-python",
   "name": "python",
   "nbconvert_exporter": "python",
   "pygments_lexer": "ipython3",
   "version": "3.13.5"
  }
 },
 "nbformat": 4,
 "nbformat_minor": 5
}
